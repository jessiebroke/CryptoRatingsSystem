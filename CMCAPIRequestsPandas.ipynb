{
 "cells": [
  {
   "cell_type": "code",
   "execution_count": 86,
   "metadata": {
    "collapsed": true
   },
   "outputs": [],
   "source": [
    "#API Requests to Coinmarketcap"
   ]
  },
  {
   "cell_type": "code",
   "execution_count": 87,
   "metadata": {
    "collapsed": true
   },
   "outputs": [],
   "source": [
    "import requests\n",
    "import pandas as pd\n",
    "import numpy as np\n",
    "import json\n",
    "import ijson"
   ]
  },
  {
   "cell_type": "code",
   "execution_count": 88,
   "metadata": {},
   "outputs": [],
   "source": [
    "# Make a get request to get the latest position of the international space station from the opennotify api.\n",
    "#response = requests.get(\"https://api.coinmarketcap.com/v1/ticker/\")\n",
    "\n",
    "# Find content data type from CMC\n",
    "#print(type(response.content))\n",
    "\n",
    "# Print the status code of the response.\n",
    "#print(response.status_code)"
   ]
  },
  {
   "cell_type": "code",
   "execution_count": 89,
   "metadata": {},
   "outputs": [],
   "source": [
    "# Data type is \"bytes\" in the form of a list with different categories\n",
    "#data = response.json()\n",
    "\n",
    "# Format object data into data type \"string\"\n",
    "#data_json = json.dumps(data)\n",
    "\n",
    "# Verify data type is \"string\"\n",
    "#print(type(data_json))\n",
    "\n",
    "# Print JSON string formatted data\n",
    "#print(data_json)"
   ]
  },
  {
   "cell_type": "code",
   "execution_count": 90,
   "metadata": {},
   "outputs": [],
   "source": [
    "def callcmcapi(token_name, column_name):\n",
    "    response = requests.get('https://api.coinmarketcap.com/v1/ticker/')\n",
    "    data_p = pd.read_json(response.text)\n",
    "    data_p = data_p.set_index('id')\n",
    "    return data_p.loc[[token_name]][[column_name]]\n",
    "        #return data_p.loc[token_name][column_name]"
   ]
  }
 ],
 "metadata": {
  "kernelspec": {
   "display_name": "Python 3",
   "language": "python",
   "name": "python3"
  },
  "language_info": {
   "codemirror_mode": {
    "name": "ipython",
    "version": 3
   },
   "file_extension": ".py",
   "mimetype": "text/x-python",
   "name": "python",
   "nbconvert_exporter": "python",
   "pygments_lexer": "ipython3",
   "version": "3.6.3"
  }
 },
 "nbformat": 4,
 "nbformat_minor": 2
}
