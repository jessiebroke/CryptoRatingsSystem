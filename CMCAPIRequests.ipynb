{
 "cells": [
  {
   "cell_type": "code",
   "execution_count": 228,
   "metadata": {
    "collapsed": true
   },
   "outputs": [],
   "source": [
    "#API Requests to Coinmarketcap"
   ]
  },
  {
   "cell_type": "code",
   "execution_count": 229,
   "metadata": {
    "collapsed": true
   },
   "outputs": [],
   "source": [
    "import requests\n",
    "import pandas as pd\n",
    "import numpy as np\n",
    "import json\n",
    "import ijson"
   ]
  },
  {
   "cell_type": "code",
   "execution_count": 230,
   "metadata": {},
   "outputs": [],
   "source": [
    "# Make a get request to get the latest position of the international space station from the opennotify api.\n",
    "#response = requests.get(\"https://api.coinmarketcap.com/v1/ticker/\")\n",
    "\n",
    "# Print the status code of the response.\n",
    "#print(response.status_code)"
   ]
  },
  {
   "cell_type": "code",
   "execution_count": 231,
   "metadata": {},
   "outputs": [],
   "source": [
    "# Find content data type from CMC\n",
    "#print(type(response.content))\n",
    "\n",
    "# Data type is \"bytes\" in the form of a list with different categories\n",
    "#data = response.json()\n",
    "\n",
    "# Format object data into data type \"string\"\n",
    "#data_json = json.dumps(data)\n",
    "\n",
    "# Verify data type is \"string\"\n",
    "#print(type(data_json))\n",
    "\n",
    "# Print JSON string formatted data\n",
    "#print(data_json)\n",
    "\n",
    "#prints all information in data\n",
    "#print(data)"
   ]
  },
  {
   "cell_type": "code",
   "execution_count": 232,
   "metadata": {},
   "outputs": [],
   "source": [
    "#tokens = pd.Series(data)\n",
    "#list(tokens)\n",
    "#tokens = pd.read_json(data_json)\n",
    "\n",
    "#tokens.index = tokens[\"id\"]\n",
    "    \n",
    "    #tokens['id']\n",
    "    #list(tokens)\n",
    "    #list(tokens.columns.values)"
   ]
  },
  {
   "cell_type": "code",
   "execution_count": 233,
   "metadata": {
    "scrolled": false
   },
   "outputs": [],
   "source": [
    "#tokens.loc[\"bitcoin\",\"total_supply\"]\n",
    "\n",
    "def callcmcapi(tokenname, column):\n",
    "    \n",
    "    response = requests.get(\"https://api.coinmarketcap.com/v1/ticker/\")\n",
    "    \n",
    "    data = response.json()\n",
    "    \n",
    "    tokens = pd.read_json(data_json)\n",
    "\n",
    "    tokens.index = tokens[\"id\"]\n",
    "    \n",
    "    #cmcrowdata = tokens.loc[tokenname]\n",
    "    \n",
    "    cmcvalue = tokens.loc[tokenname, column]\n",
    "        \n",
    "    return cmcvalue;\n",
    "\n",
    "#use a dict"
   ]
  },
  {
   "cell_type": "code",
   "execution_count": 234,
   "metadata": {},
   "outputs": [
    {
     "data": {
      "text/plain": [
       "21000000.0"
      ]
     },
     "execution_count": 234,
     "metadata": {},
     "output_type": "execute_result"
    }
   ],
   "source": [
    "callcmcapi(\"bitcoin\",\"max_supply\")"
   ]
  }
 ],
 "metadata": {
  "kernelspec": {
   "display_name": "Python 3",
   "language": "python",
   "name": "python3"
  },
  "language_info": {
   "codemirror_mode": {
    "name": "ipython",
    "version": 3
   },
   "file_extension": ".py",
   "mimetype": "text/x-python",
   "name": "python",
   "nbconvert_exporter": "python",
   "pygments_lexer": "ipython3",
   "version": "3.6.3"
  }
 },
 "nbformat": 4,
 "nbformat_minor": 2
}
