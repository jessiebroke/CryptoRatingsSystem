{
 "cells": [
  {
   "cell_type": "code",
   "execution_count": null,
   "metadata": {
    "collapsed": true
   },
   "outputs": [],
   "source": [
    "import requests\n",
    "import pandas as pd\n",
    "import numpy as np\n",
    "import json\n",
    "import ijson"
   ]
  },
  {
   "cell_type": "code",
   "execution_count": null,
   "metadata": {
    "collapsed": true
   },
   "outputs": [],
   "source": [
    "#r = requests.get('https://api.github.com/repos/bitcoin/bitcoin')\n",
    "#print(response.status_code)\n",
    "#www.restapitutorial.com/httpstatuscodes.html\n",
    "#print(type(response.content))\n",
    "#print(response.content)"
   ]
  },
  {
   "cell_type": "code",
   "execution_count": null,
   "metadata": {
    "collapsed": true
   },
   "outputs": [],
   "source": [
    "#read request data as type 'dict' into variable called data\n",
    "#data = r.json()"
   ]
  },
  {
   "cell_type": "code",
   "execution_count": null,
   "metadata": {
    "collapsed": true
   },
   "outputs": [],
   "source": [
    "#convert 'dict' information in variable data to datatype 'Series'\n",
    "#github = pd.Series(data)"
   ]
  },
  {
   "cell_type": "code",
   "execution_count": null,
   "metadata": {
    "collapsed": true
   },
   "outputs": [],
   "source": [
    "\n",
    "#Current GitHub release version date\n",
    "#githubrelease = github.loc[\"pushed_at\"]\n",
    "#print(\"GitHub Release:\",githubrelease)"
   ]
  },
  {
   "cell_type": "code",
   "execution_count": null,
   "metadata": {
    "collapsed": true
   },
   "outputs": [],
   "source": [
    "#Current GitHub star\n",
    "#githubstars = github.loc[\"stargazers_count\"]\n",
    "#print(\"GitHub Stars:\",githubstars)"
   ]
  },
  {
   "cell_type": "code",
   "execution_count": null,
   "metadata": {
    "collapsed": true
   },
   "outputs": [],
   "source": [
    "def callghapi(token_repository, parameter_name):\n",
    "    #Expand dictionary of GitHub respositories for all crypto and reference specific URL by token_repository param\n",
    "    response = requests.get('https://api.github.com/repos/bitcoin/bitcoin')\n",
    "    data = response.json()\n",
    "    data_s = pd.Series(data)\n",
    "    return data_s.loc[parameter_name]"
   ]
  }
 ],
 "metadata": {
  "kernelspec": {
   "display_name": "Python 3",
   "language": "python",
   "name": "python3"
  },
  "language_info": {
   "codemirror_mode": {
    "name": "ipython",
    "version": 3
   },
   "file_extension": ".py",
   "mimetype": "text/x-python",
   "name": "python",
   "nbconvert_exporter": "python",
   "pygments_lexer": "ipython3",
   "version": "3.6.3"
  }
 },
 "nbformat": 4,
 "nbformat_minor": 2
}
