{
 "cells": [
  {
   "cell_type": "code",
   "execution_count": 1,
   "metadata": {
    "collapsed": true
   },
   "outputs": [],
   "source": [
    "import requests\n",
    "import pandas as pd\n",
    "import numpy as np\n",
    "import json\n",
    "import ijson\n",
    "from CMCAPIRequestsPandas import *\n",
    "from GHAPIRequests import *"
   ]
  },
  {
   "cell_type": "code",
   "execution_count": 2,
   "metadata": {
    "collapsed": true
   },
   "outputs": [],
   "source": [
    "#Defining all variables for use by CMC API\n",
    "#https://api.coinmarketcap.com/v1/ticker/\n",
    "\n",
    "cmcid = \"id\"; #all lower-case name of crypto\n",
    "cmcname = \"name\"; #case-sensitive name of crypto\n",
    "cmcsymbol = \"symbol\"; #ticker symbol of crypto\n",
    "cmcrank= \"rank\"; #rank by largest Market Cap\n",
    "cmcpriceusd = \"price_usd\" #price in USD\n",
    "cmcpricebtc = \"price_btc\" #price in BTC\n",
    "cmcdailyvol = \"24h_volume_usd\" #daily volume in USD\n",
    "cmcmarketcap = \"market_cap_usd\" #total market cap\n",
    "cmcavailsupp = \"available_supply\" #total available supply in current circulation\n",
    "cmctotalsupp = \"total_supply\" #total available supply currently\n",
    "cmcmaxsupp = \"max_supply\" #maximum possibly supply circulation\n",
    "cmchourchg = \"percent_change_1h\" #1 hour percent change\n",
    "cmcdailychg = \"percent_change_24h\" #24 hour percent change\n",
    "cmcweeklychg = \"percent_change_7d\" #1 week percent change\n",
    "cmclastupdate = \"last_updated\" #not sure yet\n",
    "\n",
    "#Defining all variables for use by GitHub API\n",
    "#https://api.github.com/repos/bitcoin/bitcoin\n",
    "\n",
    "ghid = \"id\"\n",
    "ghname = \"name\"\n",
    "ghrelease = \"pushed_at\"\n",
    "ghstars = \"stargazers_count\"\n",
    "ghforks = \"forks_count\"\n",
    "ghlanguage = \"language\"\n",
    "ghopenissues = \"open_issues_count\"\n",
    "ghsubcount = \"subscribers_count\""
   ]
  },
  {
   "cell_type": "code",
   "execution_count": 3,
   "metadata": {
    "scrolled": true
   },
   "outputs": [
    {
     "data": {
      "text/html": [
       "<div>\n",
       "<style>\n",
       "    .dataframe thead tr:only-child th {\n",
       "        text-align: right;\n",
       "    }\n",
       "\n",
       "    .dataframe thead th {\n",
       "        text-align: left;\n",
       "    }\n",
       "\n",
       "    .dataframe tbody tr th {\n",
       "        vertical-align: top;\n",
       "    }\n",
       "</style>\n",
       "<table border=\"1\" class=\"dataframe\">\n",
       "  <thead>\n",
       "    <tr style=\"text-align: right;\">\n",
       "      <th></th>\n",
       "      <th>price_usd</th>\n",
       "    </tr>\n",
       "    <tr>\n",
       "      <th>id</th>\n",
       "      <th></th>\n",
       "    </tr>\n",
       "  </thead>\n",
       "  <tbody>\n",
       "    <tr>\n",
       "      <th>bitcoin</th>\n",
       "      <td>10371.7</td>\n",
       "    </tr>\n",
       "  </tbody>\n",
       "</table>\n",
       "</div>"
      ],
      "text/plain": [
       "         price_usd\n",
       "id                \n",
       "bitcoin    10371.7"
      ]
     },
     "execution_count": 3,
     "metadata": {},
     "output_type": "execute_result"
    }
   ],
   "source": [
    "#Makes call to CMCAPIRequests to return row data as well as the specific value.\n",
    "callcmcapi(\"bitcoin\", cmcpriceusd)"
   ]
  },
  {
   "cell_type": "code",
   "execution_count": 4,
   "metadata": {},
   "outputs": [
    {
     "data": {
      "text/plain": [
       "'bitcoin'"
      ]
     },
     "execution_count": 4,
     "metadata": {},
     "output_type": "execute_result"
    }
   ],
   "source": [
    "#Makes call to GHAPIRequests to return Series data as well as specific value.\n",
    "callghapi(\"bitcoin\", ghname)"
   ]
  }
 ],
 "metadata": {
  "kernelspec": {
   "display_name": "Python 3",
   "language": "python",
   "name": "python3"
  },
  "language_info": {
   "codemirror_mode": {
    "name": "ipython",
    "version": 3
   },
   "file_extension": ".py",
   "mimetype": "text/x-python",
   "name": "python",
   "nbconvert_exporter": "python",
   "pygments_lexer": "ipython3",
   "version": "3.6.3"
  }
 },
 "nbformat": 4,
 "nbformat_minor": 2
}
