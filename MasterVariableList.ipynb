{
 "cells": [
  {
   "cell_type": "code",
   "execution_count": 29,
   "metadata": {},
   "outputs": [],
   "source": [
    "import requests\n",
    "import pandas as pd\n",
    "import numpy as np\n",
    "import json\n",
    "import ijson\n",
    "from CMCAPIRequests import *"
   ]
  },
  {
   "cell_type": "code",
   "execution_count": 30,
   "metadata": {
    "collapsed": true
   },
   "outputs": [],
   "source": [
    "#Defining all variables for use by CMC\n",
    "\n",
    "cmcid = \"id\"; #all lower-case name of crypto\n",
    "cmcname = \"name\"; #case-sensitive name of crypto\n",
    "cmcsymbol = \"symbol\"; #ticker symbol of crypto\n",
    "cmcrank= \"rank\"; #rank by largest Market Cap\n",
    "cmcpriceusd = \"price_usd\" #price in USD\n",
    "cmcpricebtc = \"price_btc\" #price in BTC\n",
    "cmcdailyvol = \"24h_volume_usd\" #daily volume in USD\n",
    "cmcmarketcap = \"market_cap_usd\" #total market cap\n",
    "cmcavailsupp = \"available_supply\" #total available supply in current circulation\n",
    "cmctotalsupp = \"total_supply\" #total available supply currently\n",
    "cmcmaxsupp = \"max_supply\" #maximum possibly supply circulation\n",
    "cmchourchg = \"percent_change_1h\" #1 hour percent change\n",
    "cmcdailychg = \"percent_change_24h\" #24 hour percent change\n",
    "cmcweeklychg = \"percent_change_7d\" #1 week percent change\n",
    "cmclastupdate = \"last_updated\" #not sure yet"
   ]
  },
  {
   "cell_type": "code",
   "execution_count": 31,
   "metadata": {
    "scrolled": true
   },
   "outputs": [
    {
     "ename": "NameError",
     "evalue": "name 'df' is not defined",
     "output_type": "error",
     "traceback": [
      "\u001b[1;31m---------------------------------------------------------------------------\u001b[0m",
      "\u001b[1;31mNameError\u001b[0m                                 Traceback (most recent call last)",
      "\u001b[1;32m<ipython-input-31-3bbad358e16e>\u001b[0m in \u001b[0;36m<module>\u001b[1;34m()\u001b[0m\n\u001b[0;32m      1\u001b[0m \u001b[0mdfreturn\u001b[0m \u001b[1;33m=\u001b[0m \u001b[1;36m0\u001b[0m\u001b[1;33m;\u001b[0m\u001b[1;33m\u001b[0m\u001b[0m\n\u001b[0;32m      2\u001b[0m \u001b[1;33m\u001b[0m\u001b[0m\n\u001b[1;32m----> 3\u001b[1;33m \u001b[0mdfreturn\u001b[0m \u001b[1;33m=\u001b[0m \u001b[0mcallcmcapi\u001b[0m\u001b[1;33m(\u001b[0m\u001b[1;34m\"bitcoin\"\u001b[0m\u001b[1;33m,\u001b[0m \u001b[1;34m\"max_supply\"\u001b[0m\u001b[1;33m)\u001b[0m\u001b[1;33m\u001b[0m\u001b[0m\n\u001b[0m",
      "\u001b[1;32m<ipython-input-13-e4a715e6b95f>\u001b[0m in \u001b[0;36mcallcmcapi\u001b[1;34m(tokenname, column)\u001b[0m\n\u001b[0;32m      1\u001b[0m \u001b[1;32mdef\u001b[0m \u001b[0mcallcmcapi\u001b[0m \u001b[1;33m(\u001b[0m\u001b[0mtokenname\u001b[0m\u001b[1;33m,\u001b[0m \u001b[0mcolumn\u001b[0m\u001b[1;33m)\u001b[0m\u001b[1;33m:\u001b[0m\u001b[1;33m\u001b[0m\u001b[0m\n\u001b[1;32m----> 2\u001b[1;33m     \u001b[0mdf\u001b[0m\u001b[1;33m.\u001b[0m\u001b[0mloc\u001b[0m\u001b[1;33m[\u001b[0m\u001b[0mdf\u001b[0m\u001b[1;33m[\u001b[0m\u001b[1;34m''\u001b[0m\u001b[1;33m]\u001b[0m \u001b[1;33m==\u001b[0m \u001b[0msome_value\u001b[0m\u001b[1;33m]\u001b[0m\u001b[1;33m\u001b[0m\u001b[0m\n\u001b[0m\u001b[0;32m      3\u001b[0m     \u001b[1;32mreturn\u001b[0m\u001b[1;33m;\u001b[0m\u001b[1;33m\u001b[0m\u001b[0m\n\u001b[0;32m      4\u001b[0m \u001b[1;33m\u001b[0m\u001b[0m\n\u001b[0;32m      5\u001b[0m \u001b[0mcallcmcapi\u001b[0m\u001b[1;33m(\u001b[0m\u001b[1;34m\"bitcoin\"\u001b[0m\u001b[1;33m,\u001b[0m \u001b[0mcmcid\u001b[0m\u001b[1;33m)\u001b[0m\u001b[1;33m\u001b[0m\u001b[0m\n",
      "\u001b[1;31mNameError\u001b[0m: name 'df' is not defined"
     ]
    }
   ],
   "source": [
    "dfreturn = 0;\n",
    "\n",
    "dfreturn = callcmcapi(\"bitcoin\", \"max_supply\")"
   ]
  }
 ],
 "metadata": {
  "kernelspec": {
   "display_name": "Python 3",
   "language": "python",
   "name": "python3"
  },
  "language_info": {
   "codemirror_mode": {
    "name": "ipython",
    "version": 3
   },
   "file_extension": ".py",
   "mimetype": "text/x-python",
   "name": "python",
   "nbconvert_exporter": "python",
   "pygments_lexer": "ipython3",
   "version": "3.6.3"
  }
 },
 "nbformat": 4,
 "nbformat_minor": 2
}
